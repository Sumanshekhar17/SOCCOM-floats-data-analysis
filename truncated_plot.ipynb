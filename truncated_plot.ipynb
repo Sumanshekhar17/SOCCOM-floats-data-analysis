{
 "cells": [
  {
   "cell_type": "code",
   "execution_count": 1,
   "id": "ea23af30-cd49-4bfb-9125-f9a600494b55",
   "metadata": {},
   "outputs": [],
   "source": [
    "import os\n",
    "from numpy import *\n",
    "import scipy.io as sio\n",
    "import scipy.interpolate as spin\n",
    "from scipy import stats\n",
    "import pandas as pd\n",
    "import pandas.plotting._converter as pandacnv   # FIXME: only necessary due to Pandas 0.21.0 bug with Datetime plotting\n",
    "pandacnv.register()                             # FIXME: only necessary due to Pandas 0.21.0 bug with Datetime plotting\n",
    "import xarray as xr\n",
    "import matplotlib as mpl\n",
    "import matplotlib.pyplot as plt\n",
    "import matplotlib.colors as mcolors\n",
    "import matplotlib.cbook as mcbook\n",
    "import matplotlib.dates as mdates\n",
    "import matplotlib.ticker as pltick\n",
    "import matplotlib.legend as mlegend\n",
    "from mpl_toolkits.axes_grid1.inset_locator import inset_axes\n",
    "from matplotlib.patches import Polygon, Rectangle, ConnectionPatch\n",
    "if os.path.isdir('/Applications/anaconda/share/proj'): # needed for Basemap import on my machine, but probably not yours\n",
    "    os.environ['PROJ_LIB'] = '/Applications/anaconda/share/proj'\n",
    "from mpl_toolkits.basemap import Basemap\n",
    "from matplotlib import gridspec\n",
    "from datetime import datetime, timedelta\n",
    "from collections import OrderedDict\n",
    "from Circles.circles import circle   # from https://github.com/urschrei/Circles\n",
    "import pickle\n",
    "import warnings\n",
    "import time\n",
    "import gsw\n",
    "\n",
    "# import custom functions\n",
    "import download_product as dlp\n",
    "import load_product as ldp\n",
    "import time_tools as tt\n",
    "import plot_tools as pt\n",
    "import geo_tools as gt"
   ]
  },
  {
   "cell_type": "code",
   "execution_count": 2,
   "id": "7a1392d9-cb78-417c-9023-9154775a1c37",
   "metadata": {},
   "outputs": [],
   "source": [
    "# custom settings\n",
    "set_printoptions(threshold=100)    # speeds up printing of large dicts containing NumPy arrays during debugging\n",
    "plt.ion()                          # necessary for interactive contour label placement\n",
    "\n",
    "# prettier font for plots\n",
    "# note: before uncommenting, have to 'install' Helvetica using fondu (see instructions at https://goo.gl/crpbt2)\n",
    "# mpl.rc('font',**{'family':'sans-serif','sans-serif':'Helvetica'})\n",
    "\n",
    "\n",
    "# analyze data and generate paper figures\n",
    "\n",
    "plot_fig_4_ED_figs_6_7 = True\n",
    "\n",
    "\n",
    "# directory for plotting output\n",
    "current_results_dir = os.getcwd() + '/Results/'\n",
    "\n",
    "# directory for h4toh5 executable\n",
    "script_dir = os.getcwd() + '/'\n",
    "\n",
    "# root directory for data files\n",
    "data_dir = os.getcwd() + '/Data/'\n",
    "\n",
    "# sub-directories for data files\n",
    "argo_gdac_dir = data_dir + 'Argo/'\n",
    "soccom_dir = argo_gdac_dir + 'SOCCOM/'\n",
    "uw_o2_dir = argo_gdac_dir + 'UW-O2/'\n",
    "shipboard_dir = data_dir + 'Shipboard/'\n",
    "wod_dir = shipboard_dir + 'WOD/'\n",
    "waghc_dir = shipboard_dir + 'WAGHC2017/'\n",
    "amsr2_dir = data_dir + 'Sea ice concentration/AMSR2/'\n",
    "amsre_dir = data_dir + 'Sea ice concentration/AMSR-E/'\n",
    "dmsp_nrt_dir = data_dir + 'Sea ice concentration/DMSP_NRT/'\n",
    "dmsp_v3_dir = data_dir + 'Sea ice concentration/DMSP_v3/'\n",
    "nimbus5_dir = data_dir + 'Sea ice concentration/Nimbus-5/'\n",
    "amsr_gridfile = data_dir + 'Sea ice concentration/AMSR_grid/LongitudeLatitudeGrid-s6250-Antarctic.h5'\n",
    "amsr_areafile = data_dir + 'Sea ice concentration/AMSR_grid/pss06area_v3.dat'\n",
    "nsidc_ps25_grid_dir = data_dir + 'Sea ice concentration/NSIDC_polar_stereo_25km_grid/'\n",
    "coastline_filename_prefix = data_dir + 'GSHHG coast shapefiles/l/GSHHS_l_L5'\n",
    "climate_indices_dir = data_dir + 'Climate indices/'\n",
    "reanalysis_dir = data_dir + 'Reanalysis/'\n",
    "era_new_dir = data_dir + 'Reanalysis/ECMWF_Weddell_unprocessed/'\n",
    "era_custom_dir = data_dir + 'Reanalysis/ECMWF_Weddell_processed/'\n",
    "era_processed_gwk_moore_dir = data_dir + 'Reanalysis/ECMWF_processed_GWKMoore/'\n",
    "isd_dir = data_dir + 'ISD station records/'\n",
    "reader_dir = data_dir + 'READER station records/'\n",
    "\n",
    "# sub-directories for serialized (\"pickled\") processed data\n",
    "figure_pickle_dir = data_dir + 'Processed_pickle_archives/'\n",
    "argo_index_pickle_dir = argo_gdac_dir + 'Argo_index_pickles/'"
   ]
  },
  {
   "cell_type": "code",
   "execution_count": 5,
   "id": "d0392066-6353-4640-ae19-35a1a804838b",
   "metadata": {},
   "outputs": [],
   "source": [
    "###################################### ANALYSIS ROUTINES ######################################################\n",
    "# Fig. 4. Hydrographic observations from Maud Rise from 2011–2018.\n",
    "# Extended Data Fig. 6. Full set of profiling float hydrographic observations from Maud Rise from 2011–2018.\n",
    "# Extended Data Fig. 7. Heat loss during the 2016 polynya estimated from hydrographic observations.\n",
    "if plot_fig_4_ED_figs_6_7:\n",
    "    plot_by_depth_composite = True\n",
    "    plot_by_depth = True\n",
    "\n",
    "    [sea_ice_grids,sea_ice_data_avail,sea_ice_all_dates] = ldp.sea_ice_data_prep(nimbus5_dir,dmsp_v3_dir,dmsp_nrt_dir,\n",
    "                                                                                 amsre_dir,amsr2_dir,amsr_gridfile,\n",
    "                                                                                 amsr_areafile,nsidc_ps25_grid_dir)\n",
    "\n",
    "    argo_gdac_index = pickle.load(open(argo_index_pickle_dir + 'argo_gdac_index.pickle','rb'))\n",
    "    argo_soccom_index = pickle.load(open(argo_index_pickle_dir + 'argo_soccom_index.pickle','rb'))\n",
    "\n",
    "    polynya_dates = [20160727000000,20160816000000,20170901000000,20171201000000]\n",
    "    polynya_dates = [tt.convert_tuple_to_datetime(tt.convert_14_to_tuple(pd)) for pd in polynya_dates]\n",
    "\n",
    "    wmoids = [5903616,5904468,5904471]\n",
    "    toi_span = [[20160000000000,20160727000000],  # 1627 days\n",
    "                [20160000000000,20180101000000],  # 1205 days, previously 1070 days\n",
    "                [20160000000000,20180223000000]]  # 1279 days, previously 1269 days\n",
    "#     toi_span = [[20111218000000,20160603000000],  # 1627 days\n",
    "#             [20150118000000,20180509000000],  # 1205 days, previously 1070 days\n",
    "#             [20141220000000,20180623000000]]  # 1279 days, previously 1269 days\n",
    "    traj_plot_params = [(1.2 * 500000,220000,-65.4,1),(1.2 * 570000,500000,-65.5,3),(1.2 * 590000,500000,-65.5,2)]\n",
    "    params = ['ptmp','psal','Nsquared']\n",
    "    condensed_cbar_labels = ['Potential temperature\\n(°C)','Salinity\\n(psu)',\n",
    "                             'Buoyancy frequency\\nsquared ' + r'(10$^{-7}$ s$^{-2}$)']\n",
    "#     width_ratios = [1627,1605,1279 * (12.0 / 9.6)]\n",
    "#     height_ratios = [1650 + 175,1650,1650,1650]\n",
    "    width_ratios = [1205,1705,1279 * (12.0 / 9.6)]\n",
    "    height_ratios = [1650 + 175,1650,1650]\n",
    "    xlabel_years_only = [True,True,True]\n",
    "    show_ice_bars = True\n",
    "    all_trajs = []\n",
    "    float_data = []\n",
    "    for f_idx,wmoid in enumerate(wmoids):\n",
    "        this_float_meta = ldp.argo_gdac_float_meta(argo_gdac_index['local_prof_index'],wmoid)\n",
    "        toi_mask = logical_and(this_float_meta['prof_datetimes'] >= toi_span[f_idx][0],\n",
    "                               this_float_meta['prof_datetimes'] <= toi_span[f_idx][1])\n",
    "        float_meta = [[wmoid,this_float_meta['prof_lons'][toi_mask],this_float_meta['prof_lats'][toi_mask],\n",
    "                       this_float_meta['prof_position_flags'][toi_mask],\n",
    "                       this_float_meta['prof_datetimes'][toi_mask]]]\n",
    "        all_trajs.append(float_meta)\n",
    "        float_data.append(ldp.argo_float_data(wmoid,argo_gdac_dir,argo_gdac_index,argo_soccom_index,\n",
    "                                              prof_nums=array(this_float_meta['prof_nums'])[toi_mask],\n",
    "                                              compute_extras=True,smooth_N2_PV=True,smooth_N2_PV_window=50.0))\n",
    "\n",
    "\n",
    "\n",
    "    # full sections by depth\n",
    "    if plot_by_depth:\n",
    "        pt.section_compiler(wmoids,data_dir,current_results_dir,'ED_figure_6',float_data,params,figsize=(8.5,7.5),\n",
    "                            depth_lim=(0,1650),mld=True,plot_title=True,sea_ice_grids=sea_ice_grids,\n",
    "                            sea_ice_data_avail=sea_ice_data_avail,add_date_bars=polynya_dates,\n",
    "                            condensed_cbar_labels=condensed_cbar_labels,width_ratios=width_ratios,\n",
    "                            height_ratios=height_ratios,all_trajs=None,traj_plot_params=traj_plot_params,\n",
    "                            show_ice_bars=show_ice_bars,density_coor=False,force_label_size=6,\n",
    "                            explicit_yticks=[0,500,1000,1500],years_only=xlabel_years_only)"
   ]
  },
  {
   "cell_type": "code",
   "execution_count": 26,
   "id": "d620e46c-6980-4035-8403-02ed3c26e3e8",
   "metadata": {
    "tags": []
   },
   "outputs": [
    {
     "data": {
      "text/plain": [
       "71"
      ]
     },
     "execution_count": 26,
     "metadata": {},
     "output_type": "execute_result"
    }
   ],
   "source": [
    "size(float_data[1]['profiles'])"
   ]
  },
  {
   "cell_type": "code",
   "execution_count": 27,
   "id": "3d2e2351-33d6-41b3-aabb-9e519db0b2f8",
   "metadata": {},
   "outputs": [
    {
     "data": {
      "text/plain": [
       "<xarray.DataArray 'Temperature' (depth: 480, time: 71)>\n",
       "array([[-0.230151, -0.187147,  0.493818, ..., -1.260069, -1.159109, -0.318149],\n",
       "       [-0.231209, -0.187211,  0.494753, ..., -1.260105, -1.157151, -0.309205],\n",
       "       [-0.230269, -0.188289,  0.494677, ..., -1.261151, -1.155199, -0.311267],\n",
       "       ...,\n",
       "       [ 0.321365,  0.331285,  0.339223, ...,  0.341306,  0.336253,  0.38187 ],\n",
       "       [ 0.321255,  0.327207,  0.33812 , ...,  0.33822 ,  0.336143,  0.381759],\n",
       "       [ 0.321145,  0.325113,  0.337018, ...,  0.336125,  0.335041,  0.381648]])\n",
       "Coordinates:\n",
       "  * depth    (depth) float64 4.694 6.476 8.358 10.44 ... 945.0 947.0 949.0 951.0\n",
       "  * time     (time) datetime64[ns] 2016-01-04T01:03:01 ... 2017-12-25T22:03:13"
      ]
     },
     "execution_count": 27,
     "metadata": {},
     "output_type": "execute_result"
    }
   ],
   "source": [
    "# for wmoid 5904468\n",
    "import numpy as np\n",
    "\n",
    "date_raw=[]\n",
    "for i in range(size(float_data[1]['profiles'])):\n",
    "    date_raw.append(tt.convert_14_to_tuple(float_data[1]['profiles'][i]['datetime']))\n",
    "type(date_raw[0])\n",
    "\n",
    "final_raw=[]\n",
    "for i in range(size(float_data[1]['profiles'])):\n",
    "    final_raw.append(tt.convert_tuple_to_datetime(date_raw[i]))\n",
    "(final_raw)\n",
    "\n",
    "time= np.array(final_raw)\n",
    "\n",
    "temperature=np.ones((480,71))\n",
    "for i in range(size(float_data[1]['profiles'])):\n",
    "    temperature[:,i]=(np.array(float_data[1]['profiles'][i]['ptmp']['data'][0:480]))\n",
    "np.shape(temperature)\n",
    "\n",
    "depth= np.array(float_data[1]['profiles'][0]['ptmp']['depth'][0:480])\n",
    "\n",
    "ds= xr.DataArray(temperature,dims=(\"depth\",\"time\"),coords=(depth,time))\n",
    "ds=ds.rename('Temperature')\n",
    "ds"
   ]
  },
  {
   "cell_type": "code",
   "execution_count": 29,
   "id": "ea21aac6-ae70-487b-a3b6-33881741d440",
   "metadata": {},
   "outputs": [
    {
     "data": {
      "image/png": "[encoded data removed]",
      "text/plain": [
       "<Figure size 432x288 with 2 Axes>"
      ]
     },
     "metadata": {
      "needs_background": "light"
     },
     "output_type": "display_data"
    }
   ],
   "source": [
    "ds.plot()\n",
    "plt.gca().invert_yaxis()"
   ]
  },
  {
   "cell_type": "code",
   "execution_count": null,
   "id": "90175448-de09-4ee6-9831-3c965580e86f",
   "metadata": {},
   "outputs": [],
   "source": []
  }
 ],
 "metadata": {
  "kernelspec": {
   "display_name": "Python 3",
   "language": "python",
   "name": "python3"
  },
  "language_info": {
   "codemirror_mode": {
    "name": "ipython",
    "version": 3
   },
   "file_extension": ".py",
   "mimetype": "text/x-python",
   "name": "python",
   "nbconvert_exporter": "python",
   "pygments_lexer": "ipython3",
   "version": "3.7.3"
  }
 },
 "nbformat": 4,
 "nbformat_minor": 5
}
